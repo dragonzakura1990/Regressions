{
 "cells": [
  {
   "cell_type": "code",
   "execution_count": 1,
   "metadata": {},
   "outputs": [],
   "source": [
    "class LR:\n",
    "    '''\n",
    "    A Class that implements linear regression with gradient descent\n",
    "    '''\n",
    "    def __init__(self, lr=0.01, n_iterations=10000):\n",
    "        self.lr = lr\n",
    "        self.n_iterations = n_iterations\n",
    "        self.weights, self.bias = None, None\n",
    "        self.loss = []\n",
    "        \n",
    "    def MSE(self, y, y_hat):\n",
    "        '''\n",
    "        calculate loss\n",
    "        '''\n",
    "        error=0\n",
    "        for i in range(len(y)):\n",
    "            error+=(y[i]-y_hat[i])**2\n",
    "        return error/len(y)\n",
    "    \n",
    "    def fit(self, X,y):\n",
    "        '''\n",
    "        parameter learning\n",
    "        '''\n",
    "        self.weights=np.zeros(X.shape[1])\n",
    "        self.bias=0\n",
    "        \n",
    "        for i in range(self.n_iterations):\n",
    "            y_hat=np.dot(X, self.weights)+self.bias\n",
    "            loss=self.MSE(y,y_hat)\n",
    "            self.loss.append(loss)\n",
    "            \n",
    "            deriv_weights=(1/X.shape[0])*(2*np.dot(X.T,(y_hat-y)))\n",
    "            deriv_bias=(1/X.shape[0])*(2*np.sum(y_hat-y))\n",
    "            \n",
    "            self.weights-=deriv_weights*self.lr\n",
    "            self.bias-=deriv_bias*self.lr\n",
    "        \n",
    "    def predict(self, X):\n",
    "        '''\n",
    "        make prediction\n",
    "        '''\n",
    "        return np.dot(X, self.weights)+self.bias"
   ]
  }
 ],
 "metadata": {
  "kernelspec": {
   "display_name": "Python 3",
   "language": "python",
   "name": "python3"
  },
  "language_info": {
   "codemirror_mode": {
    "name": "ipython",
    "version": 3
   },
   "file_extension": ".py",
   "mimetype": "text/x-python",
   "name": "python",
   "nbconvert_exporter": "python",
   "pygments_lexer": "ipython3",
   "version": "3.8.3"
  }
 },
 "nbformat": 4,
 "nbformat_minor": 4
}
