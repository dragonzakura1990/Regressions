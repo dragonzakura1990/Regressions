{
 "cells": [
  {
   "cell_type": "code",
   "execution_count": 4,
   "metadata": {},
   "outputs": [],
   "source": [
    "import numpy as np\n",
    "\n",
    "class logisticReg:\n",
    "    '''\n",
    "    logistic regression with gradient descent\n",
    "    '''\n",
    "    def __init__(self, lr=0.1, epoch=100):\n",
    "        self.lr=lr\n",
    "        self.epoch=epoch\n",
    "        self.weights, self.bias= None, None\n",
    "        self.loglik=[]\n",
    "        \n",
    "    def sigmoid(self, z):\n",
    "        return 1.0/(1+np.exp(-z))\n",
    "    \n",
    "    def loglikelihood(self, y, y_hat):\n",
    "        loglik=0\n",
    "        for i in range(len(y)):\n",
    "            loglik+=y[i]*np.log(y_hat[i])+(1-y[i])*np.log(1-y_hat[i])\n",
    "        return (-1/len(y))*loglik\n",
    "    \n",
    "    def fit(self, X, y):\n",
    "        self.weights=np.zeros(X.shape[1])\n",
    "        self.bias=0\n",
    "        \n",
    "        for i in range(self.epoch):\n",
    "            y_hat=self.sigmoid(np.dot(X, self.weights)+self.bias)\n",
    "            self.loglik.append(self.loglikelihood(y,y_hat))\n",
    "            \n",
    "            deriv_weights=(1/X.shape[0])*(np.dot(X.T, (y_hat-y)))\n",
    "            deriv_bias=(1/X.shape[0])*(np.sum(y_hat-y))\n",
    "            \n",
    "            self.weights-=self.lr*deriv_weights\n",
    "            self.bias-=self.lr*deriv_bias\n",
    "            \n",
    "    def pred(self, X):\n",
    "        pred=self.sigmoid(np.dot(X, self.weights)+self.bias)\n",
    "        label=[]\n",
    "        label=[1 if num>0.5 else 0 for num in pred]\n",
    "        return np.array(label)   "
   ]
  }
 ],
 "metadata": {
  "kernelspec": {
   "display_name": "Python 3",
   "language": "python",
   "name": "python3"
  },
  "language_info": {
   "codemirror_mode": {
    "name": "ipython",
    "version": 3
   },
   "file_extension": ".py",
   "mimetype": "text/x-python",
   "name": "python",
   "nbconvert_exporter": "python",
   "pygments_lexer": "ipython3",
   "version": "3.8.3"
  }
 },
 "nbformat": 4,
 "nbformat_minor": 4
}
