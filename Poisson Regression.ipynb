{
 "cells": [
  {
   "cell_type": "code",
   "execution_count": 18,
   "metadata": {},
   "outputs": [],
   "source": [
    "import numpy as np"
   ]
  },
  {
   "cell_type": "code",
   "execution_count": 19,
   "metadata": {},
   "outputs": [],
   "source": [
    "class PoisReg:\n",
    "    \"\"\"\n",
    "    Poisson regression with gradient descent\n",
    "    \"\"\"\n",
    "    def __init__(self, lr=0.01, epoch=1000):\n",
    "        self.lr=lr\n",
    "        self.epoch=epoch\n",
    "        self.weights, self.bias=None, None\n",
    "        self.loss=[]\n",
    "        \n",
    "    def link(self, x):\n",
    "        return np.exp(x)\n",
    "    \n",
    "    def loglik(self, y, rate):\n",
    "        loglik=0\n",
    "        for i in range(len(y)):\n",
    "            loglik+=y[i]*np.log(rate[i])-rate[i]\n",
    "        return -loglik\n",
    "    \n",
    "    def fit(self, X, y):\n",
    "        self.weights=np.zeros(X.shape[1])\n",
    "        self.bias=0\n",
    "        \n",
    "        for i in range(self.epoch):\n",
    "            rate=self.link(np.dot(X, self.weights)+self.bias)\n",
    "            self.loss.append(self.loglik(y,rate))\n",
    "            \n",
    "            deriv_weights=(1/X.shape[0])*(np.dot(X.T, (rate-y)))\n",
    "            deriv_bias=(1/X.shape[0])*(np.sum(rate-y))\n",
    "            \n",
    "            self.weights-=self.lr*deriv_weights\n",
    "            self.bias-=self.lr*deriv_bias\n",
    "            \n",
    "    def pred(self, X):\n",
    "        rate=self.link(np.dot(X, self.weights)+self.bias)\n",
    "        prediction=[]\n",
    "        for i in range(len(rate)):\n",
    "            prediction.append(np.random.poisson(rate[i],1))\n",
    "        return prediction"
   ]
  }
 ],
 "metadata": {
  "kernelspec": {
   "display_name": "Python 3",
   "language": "python",
   "name": "python3"
  },
  "language_info": {
   "codemirror_mode": {
    "name": "ipython",
    "version": 3
   },
   "file_extension": ".py",
   "mimetype": "text/x-python",
   "name": "python",
   "nbconvert_exporter": "python",
   "pygments_lexer": "ipython3",
   "version": "3.8.3"
  }
 },
 "nbformat": 4,
 "nbformat_minor": 4
}
