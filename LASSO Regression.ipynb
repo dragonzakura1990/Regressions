{
 "cells": [
  {
   "cell_type": "code",
   "execution_count": 1,
   "metadata": {},
   "outputs": [],
   "source": [
    "import numpy as np\n",
    "\n",
    "class LASSO:\n",
    "    \n",
    "    def __init__(self, lr=0.01, epoch=1000, lam=0.1):\n",
    "        self.lr=lr\n",
    "        self.epoch=epoch\n",
    "        self.lam=lam\n",
    "        self.weight, self.bias=None, None\n",
    "        self.loss=[]\n",
    "        \n",
    "    def mse(self, y, y_hat):\n",
    "        error=0\n",
    "        for i in range(len(y)):\n",
    "            error+=(y[i]-y_hat[i])**2\n",
    "        return error/len(y)\n",
    "    \n",
    "    def softhres(self, num1, num2):\n",
    "        return np.sign(num1)*max(abs(num1)-num2,0)\n",
    "    \n",
    "    def fit(self, X, y):\n",
    "        self.weight=np.zeros(X.shape[1])\n",
    "        \n",
    "        for i in range(self.epoch):\n",
    "            y_hat=np.dot(X, self.weight)\n",
    "            self.loss.append(self.mse(y,y_hat))\n",
    "            \n",
    "            for j in range(len(self.weight)):\n",
    "                var=2*np.sum(X[:,j]**2)\n",
    "                cov=2*np.dot(X[:,j], y-np.dot(X, self.weight)+np.dot(X[:,j],self.weight[j]))\n",
    "                self.weight[j]=self.softhres(cov/var, self.lam/var)\n",
    "    \n",
    "    def predict(self, X):\n",
    "        return np.dot(X, self.weights)  "
   ]
  },
  {
   "cell_type": "code",
   "execution_count": 2,
   "metadata": {},
   "outputs": [],
   "source": [
    "from sklearn.datasets import make_regression\n",
    "X, y = make_regression(n_features=5, n_informative=3, random_state=1)"
   ]
  },
  {
   "cell_type": "code",
   "execution_count": 3,
   "metadata": {},
   "outputs": [],
   "source": [
    "model=LASSO(lr=0.01, epoch=100, lam=1)\n",
    "model.fit(X,y)"
   ]
  }
 ],
 "metadata": {
  "kernelspec": {
   "display_name": "Python 3",
   "language": "python",
   "name": "python3"
  },
  "language_info": {
   "codemirror_mode": {
    "name": "ipython",
    "version": 3
   },
   "file_extension": ".py",
   "mimetype": "text/x-python",
   "name": "python",
   "nbconvert_exporter": "python",
   "pygments_lexer": "ipython3",
   "version": "3.8.3"
  }
 },
 "nbformat": 4,
 "nbformat_minor": 4
}
